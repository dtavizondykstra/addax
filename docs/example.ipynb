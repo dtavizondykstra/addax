{
    "cells": [
        {
            "cell_type": "markdown",
            "metadata": {},
            "source": [
                "# Example usage\n",
                "\n",
                "To use `addax` in a project:"
            ]
        },
        {
            "cell_type": "code",
            "execution_count": 1,
            "metadata": {},
            "outputs": [
                {
                    "name": "stdout",
                    "output_type": "stream",
                    "text": [
                        "0.1.0\n"
                    ]
                }
            ],
            "source": [
                "import addax\n",
                "\n",
                "print(addax.__version__)"
            ]
        },
        {
            "cell_type": "code",
            "execution_count": 2,
            "metadata": {},
            "outputs": [],
            "source": [
                "from addax.addax import (\n",
                "    read_csv,\n",
                "    standardize_headers,\n",
                "    format_text_data_target,\n",
                "    remove_rows_missing_target,\n",
                "    analyze_sentiment_text,\n",
                "    analyze_sentiment_dataframe,\n",
                "    process_text_column,\n",
                ")"
            ]
        },
        {
            "cell_type": "code",
            "execution_count": 6,
            "metadata": {},
            "outputs": [
                {
                    "name": "stderr",
                    "output_type": "stream",
                    "text": [
                        "2025-05-24 18:48:39,717 - addax.addax - INFO - Successfully read CSV: /Users/daliatavizon/Downloads/Repos/addax/docs/example_data.csv\n"
                    ]
                }
            ],
            "source": [
                "df = read_csv(\"/Users/daliatavizon/Downloads/Repos/addax/docs/example_data.csv\")"
            ]
        },
        {
            "cell_type": "code",
            "execution_count": 7,
            "metadata": {},
            "outputs": [
                {
                    "name": "stderr",
                    "output_type": "stream",
                    "text": [
                        "2025-05-24 18:48:45,835 - addax.addax - INFO - Standardized headers to lowercase and underscores.\n",
                        "2025-05-24 18:48:45,893 - addax.addax - INFO - Formatted text in column 'comment': lowercased and removed special characters.\n",
                        "2025-05-24 18:48:45,895 - addax.addax - INFO - Removed 0 rows with missing values in 'comment'.\n",
                        "2025-05-24 18:48:47,974 - addax.addax - INFO - Analyzed sentiment for 4915 rows in 'comment'.\n"
                    ]
                }
            ],
            "source": [
                "df = process_text_column(df=df, text_column=\"comment\")"
            ]
        },
        {
            "cell_type": "code",
            "execution_count": 8,
            "metadata": {},
            "outputs": [
                {
                    "data": {
                        "text/html": [
                            "<div>\n",
                            "<style scoped>\n",
                            "    .dataframe tbody tr th:only-of-type {\n",
                            "        vertical-align: middle;\n",
                            "    }\n",
                            "\n",
                            "    .dataframe tbody tr th {\n",
                            "        vertical-align: top;\n",
                            "    }\n",
                            "\n",
                            "    .dataframe thead th {\n",
                            "        text-align: right;\n",
                            "    }\n",
                            "</style>\n",
                            "<table border=\"1\" class=\"dataframe\">\n",
                            "  <thead>\n",
                            "    <tr style=\"text-align: right;\">\n",
                            "      <th></th>\n",
                            "      <th>id</th>\n",
                            "      <th>user</th>\n",
                            "      <th>star_rating</th>\n",
                            "      <th>comment</th>\n",
                            "      <th>reviewed_on</th>\n",
                            "      <th>polarity</th>\n",
                            "      <th>subjectivity</th>\n",
                            "      <th>polarity_label</th>\n",
                            "      <th>subjectivity_label</th>\n",
                            "    </tr>\n",
                            "  </thead>\n",
                            "  <tbody>\n",
                            "    <tr>\n",
                            "      <th>0</th>\n",
                            "      <td>0</td>\n",
                            "      <td>NaN</td>\n",
                            "      <td>4</td>\n",
                            "      <td>no issues</td>\n",
                            "      <td>7/23/14</td>\n",
                            "      <td>0.000000</td>\n",
                            "      <td>0.000</td>\n",
                            "      <td>neutral</td>\n",
                            "      <td>objective</td>\n",
                            "    </tr>\n",
                            "    <tr>\n",
                            "      <th>1</th>\n",
                            "      <td>1</td>\n",
                            "      <td>0mie</td>\n",
                            "      <td>5</td>\n",
                            "      <td>purchased this for my device it worked as adve...</td>\n",
                            "      <td>10/25/13</td>\n",
                            "      <td>0.200000</td>\n",
                            "      <td>0.200</td>\n",
                            "      <td>positive</td>\n",
                            "      <td>objective</td>\n",
                            "    </tr>\n",
                            "    <tr>\n",
                            "      <th>2</th>\n",
                            "      <td>2</td>\n",
                            "      <td>1K3</td>\n",
                            "      <td>4</td>\n",
                            "      <td>it works as expected i should have sprung for ...</td>\n",
                            "      <td>12/23/12</td>\n",
                            "      <td>0.129167</td>\n",
                            "      <td>0.525</td>\n",
                            "      <td>positive</td>\n",
                            "      <td>subjective</td>\n",
                            "    </tr>\n",
                            "    <tr>\n",
                            "      <th>3</th>\n",
                            "      <td>3</td>\n",
                            "      <td>1m2</td>\n",
                            "      <td>5</td>\n",
                            "      <td>this think has worked out greathad a diff bran...</td>\n",
                            "      <td>11/21/13</td>\n",
                            "      <td>0.025000</td>\n",
                            "      <td>0.550</td>\n",
                            "      <td>neutral</td>\n",
                            "      <td>subjective</td>\n",
                            "    </tr>\n",
                            "    <tr>\n",
                            "      <th>4</th>\n",
                            "      <td>4</td>\n",
                            "      <td>2&amp;amp;1/2Men</td>\n",
                            "      <td>5</td>\n",
                            "      <td>bought it with retail packaging arrived legit ...</td>\n",
                            "      <td>7/13/13</td>\n",
                            "      <td>0.386667</td>\n",
                            "      <td>0.360</td>\n",
                            "      <td>positive</td>\n",
                            "      <td>objective</td>\n",
                            "    </tr>\n",
                            "  </tbody>\n",
                            "</table>\n",
                            "</div>"
                        ],
                        "text/plain": [
                            "   id          user  star_rating  \\\n",
                            "0   0           NaN            4   \n",
                            "1   1          0mie            5   \n",
                            "2   2           1K3            4   \n",
                            "3   3           1m2            5   \n",
                            "4   4  2&amp;1/2Men            5   \n",
                            "\n",
                            "                                             comment reviewed_on  polarity  \\\n",
                            "0                                          no issues     7/23/14  0.000000   \n",
                            "1  purchased this for my device it worked as adve...    10/25/13  0.200000   \n",
                            "2  it works as expected i should have sprung for ...    12/23/12  0.129167   \n",
                            "3  this think has worked out greathad a diff bran...    11/21/13  0.025000   \n",
                            "4  bought it with retail packaging arrived legit ...     7/13/13  0.386667   \n",
                            "\n",
                            "   subjectivity polarity_label subjectivity_label  \n",
                            "0         0.000        neutral          objective  \n",
                            "1         0.200       positive          objective  \n",
                            "2         0.525       positive         subjective  \n",
                            "3         0.550        neutral         subjective  \n",
                            "4         0.360       positive          objective  "
                        ]
                    },
                    "execution_count": 8,
                    "metadata": {},
                    "output_type": "execute_result"
                }
            ],
            "source": [
                "df.head()"
            ]
        }
    ],
    "metadata": {
        "kernelspec": {
            "display_name": ".venv",
            "language": "python",
            "name": "python3"
        },
        "language_info": {
            "codemirror_mode": {
                "name": "ipython",
                "version": 3
            },
            "file_extension": ".py",
            "mimetype": "text/x-python",
            "name": "python",
            "nbconvert_exporter": "python",
            "pygments_lexer": "ipython3",
            "version": "3.12.4"
        }
    },
    "nbformat": 4,
    "nbformat_minor": 4
}
